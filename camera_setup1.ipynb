{
 "cells": [
  {
   "cell_type": "code",
   "execution_count": 1,
   "metadata": {},
   "outputs": [
    {
     "name": "stdout",
     "output_type": "stream",
     "text": [
      "CAM1 (24678979)\n"
     ]
    }
   ],
   "source": [
    "from pypylon import pylon\n",
    "from PIL import Image\n",
    "\n",
    "tl_factory = pylon.TlFactory.GetInstance()\n",
    "devices = tl_factory.EnumerateDevices()\n",
    "for device in devices:\n",
    "    print(device.GetFriendlyName())"
   ]
  },
  {
   "cell_type": "code",
   "execution_count": 2,
   "metadata": {},
   "outputs": [],
   "source": [
    "tl_factory = pylon.TlFactory.GetInstance()\n",
    "camera = pylon.InstantCamera()\n",
    "camera.Attach(tl_factory.CreateFirstDevice())"
   ]
  },
  {
   "cell_type": "code",
   "execution_count": 3,
   "metadata": {},
   "outputs": [
    {
     "ename": "AccessException",
     "evalue": "Node is not writable : AccessException thrown in node 'PixelFormat' while calling 'PixelFormat.FromString()' (file 'valuet.h', line 85)",
     "output_type": "error",
     "traceback": [
      "\u001b[1;31m---------------------------------------------------------------------------\u001b[0m",
      "\u001b[1;31mAccessException\u001b[0m                           Traceback (most recent call last)",
      "Cell \u001b[1;32mIn[3], line 3\u001b[0m\n\u001b[0;32m      1\u001b[0m camera\u001b[38;5;241m.\u001b[39mOpen()\n\u001b[0;32m      2\u001b[0m camera\u001b[38;5;241m.\u001b[39mStartGrabbing(\u001b[38;5;241m1\u001b[39m)\n\u001b[1;32m----> 3\u001b[0m camera\u001b[38;5;241m.\u001b[39mPixelFormat\u001b[38;5;241m.\u001b[39mValue \u001b[38;5;241m=\u001b[39m \u001b[38;5;124m\"\u001b[39m\u001b[38;5;124mMono8\u001b[39m\u001b[38;5;124m\"\u001b[39m\n\u001b[0;32m      4\u001b[0m grab \u001b[38;5;241m=\u001b[39m camera\u001b[38;5;241m.\u001b[39mRetrieveResult(\u001b[38;5;241m2000\u001b[39m, pylon\u001b[38;5;241m.\u001b[39mTimeoutHandling_Return)\n\u001b[0;32m      5\u001b[0m \u001b[38;5;28;01mif\u001b[39;00m grab\u001b[38;5;241m.\u001b[39mGrabSucceeded():\n",
      "File \u001b[1;32mc:\\Users\\krvas\\anaconda3\\envs\\basler\\lib\\site-packages\\pypylon\\genicam.py:2057\u001b[0m, in \u001b[0;36mIEnumeration.SetValue\u001b[1;34m(self, entry)\u001b[0m\n\u001b[0;32m   2056\u001b[0m \u001b[38;5;28;01mdef\u001b[39;00m \u001b[38;5;21mSetValue\u001b[39m(\u001b[38;5;28mself\u001b[39m, entry):\n\u001b[1;32m-> 2057\u001b[0m     \u001b[38;5;28;01mreturn\u001b[39;00m \u001b[43m_genicam\u001b[49m\u001b[38;5;241;43m.\u001b[39;49m\u001b[43mIEnumeration_SetValue\u001b[49m\u001b[43m(\u001b[49m\u001b[38;5;28;43mself\u001b[39;49m\u001b[43m,\u001b[49m\u001b[43m \u001b[49m\u001b[43mentry\u001b[49m\u001b[43m)\u001b[49m\n",
      "\u001b[1;31mAccessException\u001b[0m: Node is not writable : AccessException thrown in node 'PixelFormat' while calling 'PixelFormat.FromString()' (file 'valuet.h', line 85)"
     ]
    }
   ],
   "source": [
    "camera.Open()\n",
    "camera.StartGrabbing(1)\n",
    "camera.PixelFormat.Value = \"Mono8\"\n",
    "grab = camera.RetrieveResult(2000, pylon.TimeoutHandling_Return)\n",
    "if grab.GrabSucceeded():\n",
    "    img = grab.GetArray()\n",
    "    image = Image.fromarray(img)\n",
    "\n",
    "    image.show()\n",
    "camera.Close()"
   ]
  }
 ],
 "metadata": {
  "kernelspec": {
   "display_name": "basler",
   "language": "python",
   "name": "python3"
  },
  "language_info": {
   "codemirror_mode": {
    "name": "ipython",
    "version": 3
   },
   "file_extension": ".py",
   "mimetype": "text/x-python",
   "name": "python",
   "nbconvert_exporter": "python",
   "pygments_lexer": "ipython3",
   "version": "3.8.20"
  }
 },
 "nbformat": 4,
 "nbformat_minor": 2
}
