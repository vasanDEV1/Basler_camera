{
 "cells": [
  {
   "cell_type": "code",
   "execution_count": 1,
   "metadata": {},
   "outputs": [],
   "source": [
    "#import necessary packages"
   ]
  },
  {
   "cell_type": "code",
   "execution_count": 2,
   "metadata": {},
   "outputs": [],
   "source": [
    "import pypylon.pylon as py\n",
    "import cv2\n",
    "from pyzbar.pyzbar import decode\n",
    "import numpy as np\n",
    "import csv\n"
   ]
  },
  {
   "cell_type": "code",
   "execution_count": 3,
   "metadata": {},
   "outputs": [],
   "source": [
    "#open camera set parameter\n",
    "camera = py.InstantCamera(py.TlFactory.GetInstance().CreateFirstDevice())\n",
    "camera.Open()\n",
    "camera.PixelFormat.SetValue(\"Mono8\")\n",
    "#camera.GainRaw.Value = 35\n",
    "camera.ExposureAuto.SetValue(\"Continuous\")\n",
    "camera.GainAuto.SetValue(\"Continuous\")\n",
    "#camera.AcquisitionMode.Value = \"Continuous\"\n"
   ]
  },
  {
   "cell_type": "code",
   "execution_count": null,
   "metadata": {},
   "outputs": [
    {
     "name": "stdout",
     "output_type": "stream",
     "text": [
      "no barcode found \n"
     ]
    }
   ],
   "source": [
    "while True:\n",
    "    camera.StartGrabbing(1)\n",
    "    grab = camera.RetrieveResult(2000, py.TimeoutHandling_ThrowException)\n",
    "    if grab.GrabSucceeded():\n",
    "        img = grab.Array\n",
    "    grab.Release()    \n",
    "    camera.Close()\n",
    "    image_color = cv2.cvtColor(img, cv2.COLOR_GRAY2BGR)  \n",
    "\n",
    "\n",
    "    cv2.imshow(\"Captured Image\", image_color)\n",
    "    cv2.waitKey(5000)  \n",
    "    cv2.destroyAllWindows()\n",
    "    barcodes = decode(img)\n",
    "    \n",
    "    if barcodes:\n",
    "            with open(\"barcode_data.csv\", mode=\"a\", newline=\"\") as file:\n",
    "\n",
    "                writer = csv.writer(file)\n",
    "                writer.writerow([\"Barcode Type\", \"Barcode Data\"])  \n",
    "                for barcode in barcodes:\n",
    "                    barcode_data = barcode.data.decode(\"utf-8\")  \n",
    "                    barcode_type = barcode.type  \n",
    "                    print(f\"Found: {barcode_type} data: {barcode_data}\")\n",
    "            \n",
    "                writer.writerow([barcode_type, barcode_data])\n",
    "    else:\n",
    "        print(\"no barcode found \")\n",
    "\n"
   ]
  }
 ],
 "metadata": {
  "kernelspec": {
   "display_name": "basler",
   "language": "python",
   "name": "python3"
  },
  "language_info": {
   "codemirror_mode": {
    "name": "ipython",
    "version": 3
   },
   "file_extension": ".py",
   "mimetype": "text/x-python",
   "name": "python",
   "nbconvert_exporter": "python",
   "pygments_lexer": "ipython3",
   "version": "3.8.20"
  }
 },
 "nbformat": 4,
 "nbformat_minor": 2
}
