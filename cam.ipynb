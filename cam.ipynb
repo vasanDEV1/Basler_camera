{
 "cells": [
  {
   "cell_type": "code",
   "execution_count": 16,
   "metadata": {},
   "outputs": [],
   "source": [
    "import pypylon.pylon as py\n",
    "from PIL import Image\n",
    "import cv2\n",
    "import numpy as np"
   ]
  },
  {
   "cell_type": "code",
   "execution_count": 17,
   "metadata": {},
   "outputs": [],
   "source": [
    "camera = py.InstantCamera(py.TlFactory.GetInstance().CreateFirstDevice())\n",
    "camera.Open()\n",
    "#camera.PixelFormat.SetValue(\"BayerRG8\")\n",
    "#camera.ExposureAuto.SetValue(\"Continuous\")\n",
    "camera.ExposureAuto.SetValue(\"Off\")\n",
    "\n",
    "camera.ExposureTimeAbs.SetValue = 150\n",
    "#camera.GainAuto.SetValue(\"Continuous\")\n",
    "\n",
    "camera.StartGrabbing(1)\n",
    "grab = camera.RetrieveResult(2000, py.TimeoutHandling_ThrowException)\n",
    "if grab.GrabSucceeded():\n",
    "    img = grab.Array\n",
    "    image_color = cv2.cvtColor(img, cv2.COLOR_BAYER_RG2BGR)\n",
    "    image = Image.fromarray(image_color)\n",
    "    image.show()\n",
    "camera.Close()"
   ]
  }
 ],
 "metadata": {
  "kernelspec": {
   "display_name": "basler",
   "language": "python",
   "name": "python3"
  },
  "language_info": {
   "codemirror_mode": {
    "name": "ipython",
    "version": 3
   },
   "file_extension": ".py",
   "mimetype": "text/x-python",
   "name": "python",
   "nbconvert_exporter": "python",
   "pygments_lexer": "ipython3",
   "version": "3.8.20"
  }
 },
 "nbformat": 4,
 "nbformat_minor": 2
}
