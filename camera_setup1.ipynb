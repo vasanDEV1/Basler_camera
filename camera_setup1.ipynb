{
 "cells": [
  {
   "cell_type": "code",
   "execution_count": 4,
   "metadata": {},
   "outputs": [
    {
     "name": "stdout",
     "output_type": "stream",
     "text": [
      "CAM1 (24678979)\n"
     ]
    }
   ],
   "source": [
    "from pypylon import pylon\n",
    "from PIL import Image\n",
    "\n",
    "tl_factory = pylon.TlFactory.GetInstance()\n",
    "devices = tl_factory.EnumerateDevices()\n",
    "for device in devices:\n",
    "    print(device.GetFriendlyName())"
   ]
  },
  {
   "cell_type": "code",
   "execution_count": 5,
   "metadata": {},
   "outputs": [],
   "source": [
    "tl_factory = pylon.TlFactory.GetInstance()\n",
    "camera = pylon.InstantCamera()\n",
    "camera.Attach(tl_factory.CreateFirstDevice())"
   ]
  },
  {
   "cell_type": "code",
   "execution_count": 7,
   "metadata": {},
   "outputs": [
    {
     "ename": "RuntimeException",
     "evalue": "Grabbing has already been started. : RuntimeException thrown (file 'instantcameraimpl.h', line 740)",
     "output_type": "error",
     "traceback": [
      "\u001b[1;31m---------------------------------------------------------------------------\u001b[0m",
      "\u001b[1;31mRuntimeException\u001b[0m                          Traceback (most recent call last)",
      "Cell \u001b[1;32mIn[7], line 2\u001b[0m\n\u001b[0;32m      1\u001b[0m camera\u001b[38;5;241m.\u001b[39mOpen()\n\u001b[1;32m----> 2\u001b[0m \u001b[43mcamera\u001b[49m\u001b[38;5;241;43m.\u001b[39;49m\u001b[43mStartGrabbing\u001b[49m\u001b[43m(\u001b[49m\u001b[38;5;241;43m1\u001b[39;49m\u001b[43m)\u001b[49m\n\u001b[0;32m      3\u001b[0m camera\u001b[38;5;241m.\u001b[39mPixelFormat\u001b[38;5;241m.\u001b[39mValue \u001b[38;5;241m=\u001b[39m \u001b[38;5;124m\"\u001b[39m\u001b[38;5;124mRGB8\u001b[39m\u001b[38;5;124m\"\u001b[39m\n\u001b[0;32m      4\u001b[0m grab \u001b[38;5;241m=\u001b[39m camera\u001b[38;5;241m.\u001b[39mRetrieveResult(\u001b[38;5;241m2000\u001b[39m, pylon\u001b[38;5;241m.\u001b[39mTimeoutHandling_Return)\n",
      "File \u001b[1;32mc:\\Users\\krvas\\anaconda3\\envs\\basler\\lib\\site-packages\\pypylon\\pylon.py:3492\u001b[0m, in \u001b[0;36mInstantCamera.StartGrabbing\u001b[1;34m(self, *args)\u001b[0m\n\u001b[0;32m   3464\u001b[0m \u001b[38;5;28;01mdef\u001b[39;00m \u001b[38;5;21mStartGrabbing\u001b[39m(\u001b[38;5;28mself\u001b[39m, \u001b[38;5;241m*\u001b[39margs):\n\u001b[0;32m   3465\u001b[0m \u001b[38;5;250m    \u001b[39m\u001b[38;5;124mr\u001b[39m\u001b[38;5;124;03m\"\"\"\u001b[39;00m\n\u001b[0;32m   3466\u001b[0m \n\u001b[0;32m   3467\u001b[0m \n\u001b[1;32m   (...)\u001b[0m\n\u001b[0;32m   3490\u001b[0m \n\u001b[0;32m   3491\u001b[0m \u001b[38;5;124;03m    \"\"\"\u001b[39;00m\n\u001b[1;32m-> 3492\u001b[0m     \u001b[38;5;28;01mreturn\u001b[39;00m \u001b[43m_pylon\u001b[49m\u001b[38;5;241;43m.\u001b[39;49m\u001b[43mInstantCamera_StartGrabbing\u001b[49m\u001b[43m(\u001b[49m\u001b[38;5;28;43mself\u001b[39;49m\u001b[43m,\u001b[49m\u001b[43m \u001b[49m\u001b[38;5;241;43m*\u001b[39;49m\u001b[43margs\u001b[49m\u001b[43m)\u001b[49m\n",
      "\u001b[1;31mRuntimeException\u001b[0m: Grabbing has already been started. : RuntimeException thrown (file 'instantcameraimpl.h', line 740)"
     ]
    }
   ],
   "source": [
    "camera.Open()\n",
    "camera.StartGrabbing(1)\n",
    "camera.PixelFormat.Value = \"RGB8\"\n",
    "grab = camera.RetrieveResult(2000, pylon.TimeoutHandling_Return)\n",
    "if grab.GrabSucceeded():\n",
    "    img = grab.GetArray()\n",
    "    image = Image.fromarray(img)\n",
    "\n",
    "    image.show()\n",
    "camera.Close()"
   ]
  }
 ],
 "metadata": {
  "kernelspec": {
   "display_name": "basler",
   "language": "python",
   "name": "python3"
  },
  "language_info": {
   "codemirror_mode": {
    "name": "ipython",
    "version": 3
   },
   "file_extension": ".py",
   "mimetype": "text/x-python",
   "name": "python",
   "nbconvert_exporter": "python",
   "pygments_lexer": "ipython3",
   "version": "3.8.20"
  }
 },
 "nbformat": 4,
 "nbformat_minor": 2
}
